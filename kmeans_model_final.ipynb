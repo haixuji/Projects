{
 "cells": [
  {
   "cell_type": "code",
   "execution_count": 59,
   "id": "4e37d01c",
   "metadata": {
    "ExecuteTime": {
     "end_time": "2021-12-01T19:10:31.685157Z",
     "start_time": "2021-12-01T19:10:31.681089Z"
    },
    "id": "9e6c730c"
   },
   "outputs": [],
   "source": [
    "import pandas as pd\n",
    "import json\n",
    "import os\n",
    "import re\n",
    "import random\n",
    "from scipy import sparse\n",
    "from collections import Counter\n",
    "import numpy as np\n",
    "import pandas as pd\n",
    "import matplotlib.pyplot as plt\n",
    "from wordcloud import STOPWORDS\n",
    "from nltk.corpus import stopwords\n",
    "from stop_words import get_stop_words\n",
    "import gensim\n",
    "from nltk.stem import WordNetLemmatizer\n",
    "\n",
    "import pickle\n",
    "from sklearn.feature_extraction.text import TfidfVectorizer\n",
    "from sklearn.metrics.pairwise import cosine_similarity\n",
    "from sklearn.cluster import KMeans\n",
    "\n",
    "from yellowbrick.cluster import KElbowVisualizer"
   ]
  },
  {
   "cell_type": "markdown",
   "id": "6b0317a1",
   "metadata": {
    "id": "58638e30"
   },
   "source": [
    "# Preprocessing Data\n"
   ]
  },
  {
   "cell_type": "code",
   "execution_count": 2,
   "id": "e02c1239",
   "metadata": {
    "ExecuteTime": {
     "end_time": "2021-12-01T18:04:39.670588Z",
     "start_time": "2021-12-01T18:04:39.369828Z"
    },
    "id": "e734ea0a",
    "outputId": "0431ce3b-7b42-43b2-d02a-78755972e020"
   },
   "outputs": [
    {
     "data": {
      "text/html": [
       "<div>\n",
       "<style scoped>\n",
       "    .dataframe tbody tr th:only-of-type {\n",
       "        vertical-align: middle;\n",
       "    }\n",
       "\n",
       "    .dataframe tbody tr th {\n",
       "        vertical-align: top;\n",
       "    }\n",
       "\n",
       "    .dataframe thead th {\n",
       "        text-align: right;\n",
       "    }\n",
       "</style>\n",
       "<table border=\"1\" class=\"dataframe\">\n",
       "  <thead>\n",
       "    <tr style=\"text-align: right;\">\n",
       "      <th></th>\n",
       "      <th>name</th>\n",
       "      <th>collaborative</th>\n",
       "      <th>pid</th>\n",
       "      <th>modified_at</th>\n",
       "      <th>num_tracks</th>\n",
       "      <th>num_albums</th>\n",
       "      <th>num_followers</th>\n",
       "      <th>tracks</th>\n",
       "      <th>num_edits</th>\n",
       "      <th>duration_ms</th>\n",
       "      <th>num_artists</th>\n",
       "      <th>description</th>\n",
       "    </tr>\n",
       "  </thead>\n",
       "  <tbody>\n",
       "    <tr>\n",
       "      <th>0</th>\n",
       "      <td>Bob Dylan</td>\n",
       "      <td>false</td>\n",
       "      <td>549000</td>\n",
       "      <td>1454803200</td>\n",
       "      <td>75</td>\n",
       "      <td>65</td>\n",
       "      <td>1</td>\n",
       "      <td>[{'pos': 0, 'artist_name': 'Bob Dylan', 'track...</td>\n",
       "      <td>28</td>\n",
       "      <td>18425368</td>\n",
       "      <td>39</td>\n",
       "      <td>NaN</td>\n",
       "    </tr>\n",
       "    <tr>\n",
       "      <th>1</th>\n",
       "      <td>ON THE RUN</td>\n",
       "      <td>false</td>\n",
       "      <td>549001</td>\n",
       "      <td>1419552000</td>\n",
       "      <td>61</td>\n",
       "      <td>30</td>\n",
       "      <td>1</td>\n",
       "      <td>[{'pos': 0, 'artist_name': 'JAY Z', 'track_uri...</td>\n",
       "      <td>4</td>\n",
       "      <td>15224873</td>\n",
       "      <td>5</td>\n",
       "      <td>NaN</td>\n",
       "    </tr>\n",
       "  </tbody>\n",
       "</table>\n",
       "</div>"
      ],
      "text/plain": [
       "         name collaborative     pid  modified_at  num_tracks  num_albums  \\\n",
       "0   Bob Dylan         false  549000   1454803200          75          65   \n",
       "1  ON THE RUN         false  549001   1419552000          61          30   \n",
       "\n",
       "   num_followers                                             tracks  \\\n",
       "0              1  [{'pos': 0, 'artist_name': 'Bob Dylan', 'track...   \n",
       "1              1  [{'pos': 0, 'artist_name': 'JAY Z', 'track_uri...   \n",
       "\n",
       "   num_edits  duration_ms  num_artists description  \n",
       "0         28     18425368           39         NaN  \n",
       "1          4     15224873            5         NaN  "
      ]
     },
     "execution_count": 2,
     "metadata": {},
     "output_type": "execute_result"
    }
   ],
   "source": [
    "dirPath = 'spotify_million_playlist_dataset/data/'\n",
    "\n",
    "files = os.listdir(dirPath)\n",
    "sorted(files)\n",
    "\n",
    "# Chnage this number if needed \n",
    "number_of_json_file = 1\n",
    "playlist_frames = []\n",
    "\n",
    "for i in range(number_of_json_file):\n",
    "    data = json.load(open(dirPath+files[i]))\n",
    "    df = pd.DataFrame(data['playlists'])\n",
    "    playlist_frames.append(df)\n",
    "\n",
    "data = pd.concat(playlist_frames)\n",
    "data.head(2)"
   ]
  },
  {
   "cell_type": "code",
   "execution_count": 3,
   "id": "38113aa5",
   "metadata": {
    "ExecuteTime": {
     "end_time": "2021-12-01T18:04:42.116377Z",
     "start_time": "2021-12-01T18:04:42.112481Z"
    }
   },
   "outputs": [
    {
     "data": {
      "text/plain": [
       "(1000, 12)"
      ]
     },
     "execution_count": 3,
     "metadata": {},
     "output_type": "execute_result"
    }
   ],
   "source": [
    "data.shape"
   ]
  },
  {
   "cell_type": "code",
   "execution_count": 4,
   "id": "bc50b042",
   "metadata": {
    "ExecuteTime": {
     "end_time": "2021-12-01T18:04:43.208577Z",
     "start_time": "2021-12-01T18:04:43.203811Z"
    },
    "id": "8c73b3eb"
   },
   "outputs": [],
   "source": [
    "data.drop(['collaborative','modified_at','num_edits','description'], axis=1, inplace=True)"
   ]
  },
  {
   "cell_type": "code",
   "execution_count": 5,
   "id": "1cc4133c",
   "metadata": {
    "ExecuteTime": {
     "end_time": "2021-12-01T18:04:43.762979Z",
     "start_time": "2021-12-01T18:04:43.677195Z"
    }
   },
   "outputs": [
    {
     "data": {
      "text/html": [
       "<div>\n",
       "<style scoped>\n",
       "    .dataframe tbody tr th:only-of-type {\n",
       "        vertical-align: middle;\n",
       "    }\n",
       "\n",
       "    .dataframe tbody tr th {\n",
       "        vertical-align: top;\n",
       "    }\n",
       "\n",
       "    .dataframe thead th {\n",
       "        text-align: right;\n",
       "    }\n",
       "</style>\n",
       "<table border=\"1\" class=\"dataframe\">\n",
       "  <thead>\n",
       "    <tr style=\"text-align: right;\">\n",
       "      <th></th>\n",
       "      <th>name</th>\n",
       "      <th>pid</th>\n",
       "      <th>num_tracks</th>\n",
       "      <th>num_albums</th>\n",
       "      <th>num_followers</th>\n",
       "      <th>tracks</th>\n",
       "      <th>duration_ms</th>\n",
       "      <th>num_artists</th>\n",
       "    </tr>\n",
       "  </thead>\n",
       "  <tbody>\n",
       "    <tr>\n",
       "      <th>0</th>\n",
       "      <td>Bob Dylan</td>\n",
       "      <td>549000</td>\n",
       "      <td>75</td>\n",
       "      <td>65</td>\n",
       "      <td>1</td>\n",
       "      <td>[{'pos': 0, 'artist_name': 'Bob Dylan', 'track...</td>\n",
       "      <td>18425368</td>\n",
       "      <td>39</td>\n",
       "    </tr>\n",
       "    <tr>\n",
       "      <th>1</th>\n",
       "      <td>ON THE RUN</td>\n",
       "      <td>549001</td>\n",
       "      <td>61</td>\n",
       "      <td>30</td>\n",
       "      <td>1</td>\n",
       "      <td>[{'pos': 0, 'artist_name': 'JAY Z', 'track_uri...</td>\n",
       "      <td>15224873</td>\n",
       "      <td>5</td>\n",
       "    </tr>\n",
       "    <tr>\n",
       "      <th>2</th>\n",
       "      <td>Biking</td>\n",
       "      <td>549002</td>\n",
       "      <td>144</td>\n",
       "      <td>117</td>\n",
       "      <td>1</td>\n",
       "      <td>[{'pos': 0, 'artist_name': 'Sander van Doorn',...</td>\n",
       "      <td>32723071</td>\n",
       "      <td>72</td>\n",
       "    </tr>\n",
       "    <tr>\n",
       "      <th>3</th>\n",
       "      <td>August</td>\n",
       "      <td>549003</td>\n",
       "      <td>38</td>\n",
       "      <td>32</td>\n",
       "      <td>1</td>\n",
       "      <td>[{'pos': 0, 'artist_name': 'C-Trox', 'track_ur...</td>\n",
       "      <td>8439352</td>\n",
       "      <td>33</td>\n",
       "    </tr>\n",
       "    <tr>\n",
       "      <th>4</th>\n",
       "      <td>run mix</td>\n",
       "      <td>549004</td>\n",
       "      <td>16</td>\n",
       "      <td>15</td>\n",
       "      <td>1</td>\n",
       "      <td>[{'pos': 0, 'artist_name': 'Buzzcocks', 'track...</td>\n",
       "      <td>3804816</td>\n",
       "      <td>12</td>\n",
       "    </tr>\n",
       "  </tbody>\n",
       "</table>\n",
       "</div>"
      ],
      "text/plain": [
       "         name     pid  num_tracks  num_albums  num_followers  \\\n",
       "0   Bob Dylan  549000          75          65              1   \n",
       "1  ON THE RUN  549001          61          30              1   \n",
       "2      Biking  549002         144         117              1   \n",
       "3      August  549003          38          32              1   \n",
       "4     run mix  549004          16          15              1   \n",
       "\n",
       "                                              tracks  duration_ms  num_artists  \n",
       "0  [{'pos': 0, 'artist_name': 'Bob Dylan', 'track...     18425368           39  \n",
       "1  [{'pos': 0, 'artist_name': 'JAY Z', 'track_uri...     15224873            5  \n",
       "2  [{'pos': 0, 'artist_name': 'Sander van Doorn',...     32723071           72  \n",
       "3  [{'pos': 0, 'artist_name': 'C-Trox', 'track_ur...      8439352           33  \n",
       "4  [{'pos': 0, 'artist_name': 'Buzzcocks', 'track...      3804816           12  "
      ]
     },
     "execution_count": 5,
     "metadata": {},
     "output_type": "execute_result"
    }
   ],
   "source": [
    "data.head()"
   ]
  },
  {
   "cell_type": "code",
   "execution_count": 6,
   "id": "bc04360e",
   "metadata": {
    "ExecuteTime": {
     "end_time": "2021-12-01T18:04:47.307783Z",
     "start_time": "2021-12-01T18:04:45.187652Z"
    },
    "id": "3ef233a6",
    "outputId": "3d0f1fdc-5a4c-469b-a4df-717a2fc9751d"
   },
   "outputs": [],
   "source": [
    "tracks_frame = []\n",
    "\n",
    "for index, row in data.iterrows():\n",
    "    t = pd.DataFrame(row['tracks'])\n",
    "    t['num_followers'] = row['num_followers']\n",
    "    t.drop(['pos','artist_uri','album_uri','duration_ms'], axis=1, inplace=True)\n",
    "    tracks_frame.append(t)\n",
    "    \n",
    "tracks_data = pd.concat(tracks_frame)   "
   ]
  },
  {
   "cell_type": "code",
   "execution_count": 7,
   "id": "0d20c600",
   "metadata": {
    "ExecuteTime": {
     "end_time": "2021-12-01T18:04:48.319352Z",
     "start_time": "2021-12-01T18:04:48.157282Z"
    }
   },
   "outputs": [],
   "source": [
    "follower_count = pd.DataFrame(tracks_data.groupby('track_uri')['num_followers'].sum())\n",
    "tracks_data.drop('num_followers',axis=1,inplace=True)\n",
    "tracks_data.drop_duplicates(inplace=True)\n",
    "tracks_data.set_index('track_uri', inplace=True)\n",
    "tracks_data = pd.concat([tracks_data,follower_count],axis=1)"
   ]
  },
  {
   "cell_type": "code",
   "execution_count": 8,
   "id": "309bd937",
   "metadata": {
    "ExecuteTime": {
     "end_time": "2021-12-01T18:04:50.028017Z",
     "start_time": "2021-12-01T18:04:50.024081Z"
    }
   },
   "outputs": [
    {
     "data": {
      "text/plain": [
       "(35790, 4)"
      ]
     },
     "execution_count": 8,
     "metadata": {},
     "output_type": "execute_result"
    }
   ],
   "source": [
    "tracks_data.shape"
   ]
  },
  {
   "cell_type": "markdown",
   "id": "1b7de937",
   "metadata": {},
   "source": [
    "## Combine track_name and album_name"
   ]
  },
  {
   "cell_type": "code",
   "execution_count": 9,
   "id": "73d0d9c7",
   "metadata": {
    "ExecuteTime": {
     "end_time": "2021-12-01T18:04:52.631013Z",
     "start_time": "2021-12-01T18:04:52.588989Z"
    }
   },
   "outputs": [],
   "source": [
    "tracks_data['documents'] = tracks_data['track_name'].apply(lambda s: s.lower()) + ' ' + tracks_data['album_name'].apply(lambda s: s.lower())"
   ]
  },
  {
   "cell_type": "code",
   "execution_count": 10,
   "id": "1de3159f",
   "metadata": {
    "ExecuteTime": {
     "end_time": "2021-12-01T18:04:53.248754Z",
     "start_time": "2021-12-01T18:04:53.242791Z"
    }
   },
   "outputs": [],
   "source": [
    "def lemmatization(words):\n",
    "    lemmatizer = WordNetLemmatizer()\n",
    "    result = []\n",
    "    for word in words.split(' '):\n",
    "        result.append(lemmatizer.lemmatize(word))\n",
    "    return ' '.join(result)\n",
    "\n",
    "def remove_stopword(words):\n",
    "    result = []\n",
    "    sw = list(STOPWORDS) + stopwords.words('english') + get_stop_words('english') + list(gensim.parsing.preprocessing.STOPWORDS)\n",
    "    for word in words.split(' '):\n",
    "        if word not in sw:\n",
    "            result.append(word)\n",
    "    return ' '.join(result)\n",
    "\n",
    "def remove_single_and_two_characters(words):\n",
    "    result = []\n",
    "    for word in words.split(' '):\n",
    "        if len(word) > 2:\n",
    "            result.append(word)\n",
    "    return ' '.join(result)  \n",
    "\n",
    "def remove_any_numbers_besides_year(words):\n",
    "    result = []\n",
    "    for word in words.split(' '):\n",
    "        if not word.isnumeric() or len(word) == 4:\n",
    "            result.append(word)\n",
    "    return ' '.join(result)"
   ]
  },
  {
   "cell_type": "code",
   "execution_count": 11,
   "id": "5ee668a1",
   "metadata": {
    "ExecuteTime": {
     "end_time": "2021-12-01T18:05:03.614646Z",
     "start_time": "2021-12-01T18:04:55.491283Z"
    }
   },
   "outputs": [],
   "source": [
    "tracks_data['documents'] = tracks_data['documents'].apply(lemmatization)\n",
    "tracks_data['documents'] = tracks_data['documents'].apply(remove_stopword)\n",
    "tracks_data['documents'] = tracks_data['documents'].apply(lambda s: re.sub(r'[^a-z0-9]',' ',s))\n",
    "tracks_data['documents'] = tracks_data['documents'].apply(remove_single_and_two_characters)\n",
    "tracks_data['documents'] = tracks_data['documents'].apply(remove_any_numbers_besides_year)"
   ]
  },
  {
   "cell_type": "markdown",
   "id": "38ac4c2f",
   "metadata": {},
   "source": [
    "### Drop the rows with empty string after preprocessing words"
   ]
  },
  {
   "cell_type": "code",
   "execution_count": 12,
   "id": "c0155e67",
   "metadata": {
    "ExecuteTime": {
     "end_time": "2021-12-01T18:05:03.673134Z",
     "start_time": "2021-12-01T18:05:03.617272Z"
    }
   },
   "outputs": [
    {
     "data": {
      "text/plain": [
       "(35264, 5)"
      ]
     },
     "execution_count": 12,
     "metadata": {},
     "output_type": "execute_result"
    }
   ],
   "source": [
    "d = tracks_data['documents'].apply(len).to_dict()\n",
    "t = dict(filter(lambda x: x[1]==0,d.items()))\n",
    "\n",
    "tracks_data = tracks_data.drop(list(t.keys()))\n",
    "tracks_data.shape"
   ]
  },
  {
   "cell_type": "markdown",
   "id": "67689300",
   "metadata": {},
   "source": [
    "### Save preprocessed dataset to csv"
   ]
  },
  {
   "cell_type": "code",
   "execution_count": 13,
   "id": "71bf63a5",
   "metadata": {
    "ExecuteTime": {
     "end_time": "2021-12-01T18:05:08.559968Z",
     "start_time": "2021-12-01T18:05:08.551814Z"
    }
   },
   "outputs": [
    {
     "data": {
      "text/html": [
       "<div>\n",
       "<style scoped>\n",
       "    .dataframe tbody tr th:only-of-type {\n",
       "        vertical-align: middle;\n",
       "    }\n",
       "\n",
       "    .dataframe tbody tr th {\n",
       "        vertical-align: top;\n",
       "    }\n",
       "\n",
       "    .dataframe thead th {\n",
       "        text-align: right;\n",
       "    }\n",
       "</style>\n",
       "<table border=\"1\" class=\"dataframe\">\n",
       "  <thead>\n",
       "    <tr style=\"text-align: right;\">\n",
       "      <th></th>\n",
       "      <th>artist_name</th>\n",
       "      <th>track_name</th>\n",
       "      <th>album_name</th>\n",
       "      <th>num_followers</th>\n",
       "      <th>documents</th>\n",
       "    </tr>\n",
       "    <tr>\n",
       "      <th>track_uri</th>\n",
       "      <th></th>\n",
       "      <th></th>\n",
       "      <th></th>\n",
       "      <th></th>\n",
       "      <th></th>\n",
       "    </tr>\n",
       "  </thead>\n",
       "  <tbody>\n",
       "    <tr>\n",
       "      <th>spotify:track:6QHYEZlm9wyfXfEM1vSu1P</th>\n",
       "      <td>Bob Dylan</td>\n",
       "      <td>Boots of Spanish Leather</td>\n",
       "      <td>The Times They Are A-Changin'</td>\n",
       "      <td>2</td>\n",
       "      <td>boot spanish leather time changin</td>\n",
       "    </tr>\n",
       "    <tr>\n",
       "      <th>spotify:track:3RkQ3UwOyPqpIiIvGVewuU</th>\n",
       "      <td>Bob Dylan</td>\n",
       "      <td>Mr. Tambourine Man</td>\n",
       "      <td>Bringing It All Back Home</td>\n",
       "      <td>1</td>\n",
       "      <td>tambourine man bringing home</td>\n",
       "    </tr>\n",
       "    <tr>\n",
       "      <th>spotify:track:0ju1jP0cSPJ8tmojYBEI89</th>\n",
       "      <td>Loggins &amp; Messina</td>\n",
       "      <td>Danny's Song</td>\n",
       "      <td>The Best: Loggins &amp; Messina Sittin' In Again</td>\n",
       "      <td>5</td>\n",
       "      <td>danny song best loggins messina sittin</td>\n",
       "    </tr>\n",
       "    <tr>\n",
       "      <th>spotify:track:7ny2ATvjtKszCpLpfsGnVQ</th>\n",
       "      <td>Bob Dylan</td>\n",
       "      <td>A Hard Rain's A-Gonna Fall</td>\n",
       "      <td>The Freewheelin' Bob Dylan</td>\n",
       "      <td>1</td>\n",
       "      <td>hard rain gonna fall freewheelin bob dylan</td>\n",
       "    </tr>\n",
       "    <tr>\n",
       "      <th>spotify:track:18GiV1BaXzPVYpp9rmOg0E</th>\n",
       "      <td>Bob Dylan</td>\n",
       "      <td>Blowin' In the Wind</td>\n",
       "      <td>The Freewheelin' Bob Dylan</td>\n",
       "      <td>1</td>\n",
       "      <td>blowin wind freewheelin bob dylan</td>\n",
       "    </tr>\n",
       "  </tbody>\n",
       "</table>\n",
       "</div>"
      ],
      "text/plain": [
       "                                            artist_name  \\\n",
       "track_uri                                                 \n",
       "spotify:track:6QHYEZlm9wyfXfEM1vSu1P          Bob Dylan   \n",
       "spotify:track:3RkQ3UwOyPqpIiIvGVewuU          Bob Dylan   \n",
       "spotify:track:0ju1jP0cSPJ8tmojYBEI89  Loggins & Messina   \n",
       "spotify:track:7ny2ATvjtKszCpLpfsGnVQ          Bob Dylan   \n",
       "spotify:track:18GiV1BaXzPVYpp9rmOg0E          Bob Dylan   \n",
       "\n",
       "                                                      track_name  \\\n",
       "track_uri                                                          \n",
       "spotify:track:6QHYEZlm9wyfXfEM1vSu1P    Boots of Spanish Leather   \n",
       "spotify:track:3RkQ3UwOyPqpIiIvGVewuU          Mr. Tambourine Man   \n",
       "spotify:track:0ju1jP0cSPJ8tmojYBEI89                Danny's Song   \n",
       "spotify:track:7ny2ATvjtKszCpLpfsGnVQ  A Hard Rain's A-Gonna Fall   \n",
       "spotify:track:18GiV1BaXzPVYpp9rmOg0E         Blowin' In the Wind   \n",
       "\n",
       "                                                                        album_name  \\\n",
       "track_uri                                                                            \n",
       "spotify:track:6QHYEZlm9wyfXfEM1vSu1P                 The Times They Are A-Changin'   \n",
       "spotify:track:3RkQ3UwOyPqpIiIvGVewuU                     Bringing It All Back Home   \n",
       "spotify:track:0ju1jP0cSPJ8tmojYBEI89  The Best: Loggins & Messina Sittin' In Again   \n",
       "spotify:track:7ny2ATvjtKszCpLpfsGnVQ                    The Freewheelin' Bob Dylan   \n",
       "spotify:track:18GiV1BaXzPVYpp9rmOg0E                    The Freewheelin' Bob Dylan   \n",
       "\n",
       "                                      num_followers  \\\n",
       "track_uri                                             \n",
       "spotify:track:6QHYEZlm9wyfXfEM1vSu1P              2   \n",
       "spotify:track:3RkQ3UwOyPqpIiIvGVewuU              1   \n",
       "spotify:track:0ju1jP0cSPJ8tmojYBEI89              5   \n",
       "spotify:track:7ny2ATvjtKszCpLpfsGnVQ              1   \n",
       "spotify:track:18GiV1BaXzPVYpp9rmOg0E              1   \n",
       "\n",
       "                                                                       documents  \n",
       "track_uri                                                                         \n",
       "spotify:track:6QHYEZlm9wyfXfEM1vSu1P           boot spanish leather time changin  \n",
       "spotify:track:3RkQ3UwOyPqpIiIvGVewuU                tambourine man bringing home  \n",
       "spotify:track:0ju1jP0cSPJ8tmojYBEI89      danny song best loggins messina sittin  \n",
       "spotify:track:7ny2ATvjtKszCpLpfsGnVQ  hard rain gonna fall freewheelin bob dylan  \n",
       "spotify:track:18GiV1BaXzPVYpp9rmOg0E           blowin wind freewheelin bob dylan  "
      ]
     },
     "execution_count": 13,
     "metadata": {},
     "output_type": "execute_result"
    }
   ],
   "source": [
    "tracks_data.head()"
   ]
  },
  {
   "cell_type": "code",
   "execution_count": 14,
   "id": "78b80d98",
   "metadata": {
    "ExecuteTime": {
     "end_time": "2021-12-01T18:05:10.204275Z",
     "start_time": "2021-12-01T18:05:10.104377Z"
    }
   },
   "outputs": [],
   "source": [
    "tracks_data.to_csv('data/preprocessed_dataset.csv')"
   ]
  },
  {
   "cell_type": "markdown",
   "id": "5e293700",
   "metadata": {},
   "source": [
    "# Feature Engineering "
   ]
  },
  {
   "cell_type": "code",
   "execution_count": 65,
   "id": "eefc6943",
   "metadata": {
    "ExecuteTime": {
     "end_time": "2021-12-01T19:16:44.784918Z",
     "start_time": "2021-12-01T19:16:44.690526Z"
    }
   },
   "outputs": [],
   "source": [
    "tracks_data = pd.read_csv('data/preprocessed_dataset.csv')\n",
    "tracks_data.set_index('track_uri', inplace=True)"
   ]
  },
  {
   "cell_type": "code",
   "execution_count": 66,
   "id": "5503bea5",
   "metadata": {
    "ExecuteTime": {
     "end_time": "2021-12-01T19:16:45.242659Z",
     "start_time": "2021-12-01T19:16:45.237284Z"
    }
   },
   "outputs": [],
   "source": [
    "def get_cos_matrix(X):\n",
    "    cos_matrix = []\n",
    "    for i in range(X.shape[0]):\n",
    "        m = cosine_similarity(X[i],X[:])\n",
    "        cos_matrix.append(m.flatten().tolist())\n",
    "    return np.round(cos_matrix,4)"
   ]
  },
  {
   "cell_type": "markdown",
   "id": "737c4859",
   "metadata": {},
   "source": [
    "## Generate Features from track_name and album_name"
   ]
  },
  {
   "cell_type": "code",
   "execution_count": 87,
   "id": "2af0ebbc",
   "metadata": {
    "ExecuteTime": {
     "end_time": "2021-12-01T19:19:54.257116Z",
     "start_time": "2021-12-01T19:19:54.219416Z"
    }
   },
   "outputs": [
    {
     "data": {
      "text/plain": [
       "[('feat', 2218),\n",
       " ('love', 2015),\n",
       " ('version', 1262),\n",
       " ('remix', 1213),\n",
       " ('live', 1066),\n",
       " ('original', 749),\n",
       " ('night', 729),\n",
       " ('time', 677),\n",
       " ('life', 652),\n",
       " ('remastered', 631)]"
      ]
     },
     "execution_count": 87,
     "metadata": {},
     "output_type": "execute_result"
    }
   ],
   "source": [
    "all_words = \" \".join(tracks_data['documents'].tolist())\n",
    "freq_count = Counter(all_words.split(' '))\n",
    "sorted(freq_count.items(),key=lambda x: x[1],reverse=True)[0:10]"
   ]
  },
  {
   "cell_type": "code",
   "execution_count": 88,
   "id": "a327c399",
   "metadata": {
    "ExecuteTime": {
     "end_time": "2021-12-01T19:19:54.640369Z",
     "start_time": "2021-12-01T19:19:54.636344Z"
    }
   },
   "outputs": [],
   "source": [
    "min_freq = int(np.percentile(list(freq_count.values()),95))"
   ]
  },
  {
   "cell_type": "code",
   "execution_count": 89,
   "id": "9d4a3c86",
   "metadata": {
    "ExecuteTime": {
     "end_time": "2021-12-01T19:19:56.623456Z",
     "start_time": "2021-12-01T19:19:56.514847Z"
    }
   },
   "outputs": [
    {
     "data": {
      "image/png": "[encoded data removed]",
      "text/plain": [
       "<Figure size 576x396 with 1 Axes>"
      ]
     },
     "metadata": {},
     "output_type": "display_data"
    }
   ],
   "source": [
    "plt.plot(list(freq_count.values()))\n",
    "plt.show()"
   ]
  },
  {
   "cell_type": "code",
   "execution_count": 90,
   "id": "d2223628",
   "metadata": {
    "ExecuteTime": {
     "end_time": "2021-12-01T19:20:02.681536Z",
     "start_time": "2021-12-01T19:20:02.488218Z"
    }
   },
   "outputs": [],
   "source": [
    "vectorizer = TfidfVectorizer(min_df=min_freq)\n",
    "X_documents = vectorizer.fit_transform(tracks_data['documents'])\n",
    "X_documents = np.round(X_documents,4)"
   ]
  },
  {
   "cell_type": "code",
   "execution_count": 91,
   "id": "1912d267",
   "metadata": {
    "ExecuteTime": {
     "end_time": "2021-12-01T19:20:03.358362Z",
     "start_time": "2021-12-01T19:20:03.354262Z"
    }
   },
   "outputs": [
    {
     "data": {
      "text/plain": [
       "(35264, 897)"
      ]
     },
     "execution_count": 91,
     "metadata": {},
     "output_type": "execute_result"
    }
   ],
   "source": [
    "X_documents.shape"
   ]
  },
  {
   "cell_type": "code",
   "execution_count": 92,
   "id": "1561d2d0",
   "metadata": {
    "ExecuteTime": {
     "end_time": "2021-12-01T19:20:04.665855Z",
     "start_time": "2021-12-01T19:20:04.625781Z"
    }
   },
   "outputs": [],
   "source": [
    "X = X_documents.todense()"
   ]
  },
  {
   "cell_type": "code",
   "execution_count": 95,
   "id": "d51417ce",
   "metadata": {
    "ExecuteTime": {
     "end_time": "2021-12-01T21:21:10.426184Z",
     "start_time": "2021-12-01T19:20:29.408177Z"
    }
   },
   "outputs": [],
   "source": [
    "SIM_matrix = get_cos_matrix(X)"
   ]
  },
  {
   "cell_type": "markdown",
   "id": "f157756b",
   "metadata": {},
   "source": [
    "# Estimate Number of Clusters for KMeans"
   ]
  },
  {
   "cell_type": "code",
   "execution_count": 96,
   "id": "3788f0dc",
   "metadata": {
    "ExecuteTime": {
     "end_time": "2021-12-01T23:44:38.852177Z",
     "start_time": "2021-12-01T21:33:50.950276Z"
    }
   },
   "outputs": [
    {
     "data": {
      "image/png": "[encoded data removed]",
      "text/plain": [
       "<Figure size 576x396 with 2 Axes>"
      ]
     },
     "metadata": {},
     "output_type": "display_data"
    }
   ],
   "source": [
    "model = KMeans(init='k-means++',random_state=0)\n",
    "visualizer = KElbowVisualizer(model, k=(5,20))\n",
    "visualizer.fit(SIM_matrix)\n",
    "visualizer.poof()\n",
    "k = visualizer.elbow_value_"
   ]
  },
  {
   "cell_type": "markdown",
   "id": "6ba7437d",
   "metadata": {},
   "source": [
    "# Build KMeans "
   ]
  },
  {
   "cell_type": "code",
   "execution_count": 97,
   "id": "4cb803c1",
   "metadata": {
    "ExecuteTime": {
     "end_time": "2021-12-02T00:11:51.001031Z",
     "start_time": "2021-12-02T00:03:15.637739Z"
    }
   },
   "outputs": [],
   "source": [
    "model = KMeans(n_clusters=k,init='k-means++',random_state=0).fit(SIM_matrix)"
   ]
  },
  {
   "cell_type": "code",
   "execution_count": 98,
   "id": "f2c47268",
   "metadata": {
    "ExecuteTime": {
     "end_time": "2021-12-02T00:11:51.037561Z",
     "start_time": "2021-12-02T00:11:51.014482Z"
    }
   },
   "outputs": [],
   "source": [
    "pickle.dump(model, open('kmeans_model_nlp.sav', 'wb'))"
   ]
  },
  {
   "cell_type": "code",
   "execution_count": null,
   "id": "32277e28",
   "metadata": {},
   "outputs": [],
   "source": []
  },
  {
   "cell_type": "code",
   "execution_count": null,
   "id": "e59a0726",
   "metadata": {},
   "outputs": [],
   "source": []
  }
 ],
 "metadata": {
  "colab": {
   "name": "data_preprocessing.ipynb",
   "provenance": []
  },
  "kernelspec": {
   "display_name": "Python 3 (ipykernel)",
   "language": "python",
   "name": "python3"
  },
  "language_info": {
   "codemirror_mode": {
    "name": "ipython",
    "version": 3
   },
   "file_extension": ".py",
   "mimetype": "text/x-python",
   "name": "python",
   "nbconvert_exporter": "python",
   "pygments_lexer": "ipython3",
   "version": "3.8.6"
  }
 },
 "nbformat": 4,
 "nbformat_minor": 5
}
