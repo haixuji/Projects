{
 "cells": [
  {
   "cell_type": "code",
   "execution_count": 1,
   "metadata": {
    "ExecuteTime": {
     "end_time": "2021-12-02T01:43:35.833393Z",
     "start_time": "2021-12-02T01:43:35.511616Z"
    }
   },
   "outputs": [],
   "source": [
    "import numpy as np\n",
    "import pandas as pd\n",
    "import pickle"
   ]
  },
  {
   "cell_type": "code",
   "execution_count": 2,
   "metadata": {
    "ExecuteTime": {
     "end_time": "2021-12-02T01:43:37.304702Z",
     "start_time": "2021-12-02T01:43:36.388922Z"
    }
   },
   "outputs": [],
   "source": [
    "tracks_data = pd.read_csv('data/preprocessed_dataset.csv')\n",
    "model = pickle.load(open('kmeans_model.sav', 'rb'))"
   ]
  },
  {
   "cell_type": "code",
   "execution_count": 3,
   "metadata": {
    "ExecuteTime": {
     "end_time": "2021-12-02T01:43:39.018642Z",
     "start_time": "2021-12-02T01:43:39.009938Z"
    }
   },
   "outputs": [],
   "source": [
    "tracks_clusters = pd.concat([pd.DataFrame(model.labels_, columns=['cluster']),tracks_data], axis=1)"
   ]
  },
  {
   "cell_type": "markdown",
   "metadata": {},
   "source": [
    "## Recommender System\n",
    "\n",
    "- If track is not in database, recommend the most popular tracks\n",
    "- If track is in database, recommend tracks from clusters\n",
    "\n",
    "#### Note: n is the recommended number of tracks "
   ]
  },
  {
   "cell_type": "code",
   "execution_count": 4,
   "metadata": {
    "ExecuteTime": {
     "end_time": "2021-12-02T01:43:40.421892Z",
     "start_time": "2021-12-02T01:43:40.416173Z"
    }
   },
   "outputs": [],
   "source": [
    "def cold_start_recommend(tracks_data, n):\n",
    "    most_popular = tracks_data.sort_values(by='num_followers',ascending=False).head(n)\n",
    "    return most_popular[['artist_name','track_name','album_name']]\n",
    "\n",
    "\n",
    "def content_based_recommend(selected_cluster, n):\n",
    "    recommend_tracks = None\n",
    "    selected_cluster_size = selected_cluster.shape[0]\n",
    "    selected_cluster.set_index('track_uri',inplace=True)\n",
    "    selected_cluster = selected_cluster[['artist_name','track_name','album_name']]\n",
    "    \n",
    "    if selected_cluster_size == n:\n",
    "        recommend_tracks = selected_cluster\n",
    "    elif selected_cluster_size > n:\n",
    "        recommend_tracks = selected_cluster.sample(n)\n",
    "    else:\n",
    "        recommend_tracks = selected_cluster\n",
    "        popular_tracks = cold_start_recommend(tracks_data,n-selected_cluster_size)\n",
    "        recommend_tracks = pd.concat([recommend_tracks,popular_tracks])\n",
    "    return recommend_tracks\n",
    "\n",
    "\n",
    "def recommend(artist_name, track_name, tracks_clusters, n):\n",
    "    recommend_tracks = None\n",
    "    track = tracks_clusters.loc[np.logical_and(tracks_clusters['artist_name']==artist_name, tracks_clusters['track_name']==track_name),:]\n",
    "    \n",
    "    if track.shape[0] == 0:\n",
    "        recommend_tracks = cold_start_recommend(tracks_clusters,n)\n",
    "    else:\n",
    "        cluster_label = track['cluster'].tolist()[0]\n",
    "        selected_cluster = tracks_clusters.loc[tracks_clusters['cluster']==cluster_label,:]\n",
    "        recommend_tracks = content_based_recommend(selected_cluster, n)\n",
    " \n",
    "    return recommend_tracks['track_name'].tolist()\n",
    "        "
   ]
  },
  {
   "cell_type": "code",
   "execution_count": 5,
   "metadata": {
    "ExecuteTime": {
     "end_time": "2021-12-02T01:43:42.611185Z",
     "start_time": "2021-12-02T01:43:42.576049Z"
    }
   },
   "outputs": [
    {
     "data": {
      "text/plain": [
       "['Really Really',\n",
       " 'Inside Out',\n",
       " 'El Cargo Del 5',\n",
       " 'We Want Some P--sy',\n",
       " 'Route 66']"
      ]
     },
     "execution_count": 5,
     "metadata": {},
     "output_type": "execute_result"
    }
   ],
   "source": [
    "recommend('Bob Dylan','Boots of Spanish Leather',tracks_clusters,5)"
   ]
  },
  {
   "cell_type": "code",
   "execution_count": null,
   "metadata": {},
   "outputs": [],
   "source": []
  }
 ],
 "metadata": {
  "kernelspec": {
   "display_name": "Python 3 (ipykernel)",
   "language": "python",
   "name": "python3"
  },
  "language_info": {
   "codemirror_mode": {
    "name": "ipython",
    "version": 3
   },
   "file_extension": ".py",
   "mimetype": "text/x-python",
   "name": "python",
   "nbconvert_exporter": "python",
   "pygments_lexer": "ipython3",
   "version": "3.8.6"
  }
 },
 "nbformat": 4,
 "nbformat_minor": 4
}
